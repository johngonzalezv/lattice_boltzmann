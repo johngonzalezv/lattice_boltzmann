{
  "nbformat": 4,
  "nbformat_minor": 0,
  "metadata": {
    "colab": {
      "name": "Modelo_LB_2D.ipynb",
      "version": "0.3.2",
      "provenance": [],
      "private_outputs": true,
      "collapsed_sections": [],
      "toc_visible": true
    },
    "kernelspec": {
      "name": "python3",
      "display_name": "Python 3"
    }
  },
  "cells": [
    {
      "cell_type": "markdown",
      "metadata": {
        "id": "iNJLAx-ROr_h",
        "colab_type": "text"
      },
      "source": [
        "# Modelo LB 2D\n",
        "Este cuaderno permite simular un fluido mediante la soluciÃ³n de un modelo Navier-Stokes"
      ]
    },
    {
      "cell_type": "markdown",
      "metadata": {
        "id": "G0_36Ox-VTHt",
        "colab_type": "text"
      },
      "source": [
        "Referencia:\n",
        "[Lattice Boltzmann 2D](https://drive.google.com/open?id=0B0KBxf-IgVRzZ0w1QzZQRklaekJJai1DUGVHbVRrRWVNMlAw)"
      ]
    },
    {
      "cell_type": "markdown",
      "metadata": {
        "id": "VK9F6qdf-fN5",
        "colab_type": "text"
      },
      "source": [
        "Empecemos por agregar **una imagen desde drive**"
      ]
    },
    {
      "cell_type": "code",
      "metadata": {
        "id": "1Kg7x32_88MP",
        "colab_type": "code",
        "colab": {}
      },
      "source": [
        "from google.colab import drive\n",
        "drive.mount('/content/drive', force_remount=True)\n",
        "\n",
        "# Carpeta de imÃ¡genes\n",
        "path = '/content/drive/My Drive/UDEC/PROYECTOLB/img/'"
      ],
      "execution_count": 0,
      "outputs": []
    },
    {
      "cell_type": "markdown",
      "metadata": {
        "id": "1nNL4FUJP2r4",
        "colab_type": "text"
      },
      "source": [
        "Paquetes necesarios"
      ]
    },
    {
      "cell_type": "code",
      "metadata": {
        "id": "pB7seaRGP0Gi",
        "colab_type": "code",
        "colab": {}
      },
      "source": [
        "import numpy as np\n",
        "import matplotlib.pyplot as plt"
      ],
      "execution_count": 0,
      "outputs": []
    },
    {
      "cell_type": "markdown",
      "metadata": {
        "id": "-tMLKDu6O25z",
        "colab_type": "text"
      },
      "source": [
        "## 1. FunciÃ³n de inicializaciÃ³n\n",
        "El modelo **D2Q9** consiste en un conjunto de velocidades por cada direcciÃ³n en cada punto de la grilla. La probabilidad que una partÃ­cula se mueva en cada direcciÃ³n viene dada de acuerdo a los pesos $w_i$. Por otro lado la probabilidad que cierta cantidad de masa se mueva hacia cada direcciÃ³n estÃ¡ dada por la funciÃ³n de distribuciÃ³n $f_i$.\n",
        "\n",
        "Como se observa en la figura siguiente hay mÃ¡s probabilidad que la masa de una partÃ­cula se quede en reposo (direcciÃ³n 0), seguido por la probabilidad que la masa se mueva hacia la abajo (direcciÃ³n 4).\n",
        "\n",
        "<style type=\"text/css\">\n",
        ".tg  {border-collapse:collapse;border-spacing:0;}\n",
        ".tg td{font-family:Arial, sans-serif;font-size:14px;padding:10px 5px;border-style:solid;border-width:1px;overflow:hidden;word-break:normal;border-color:black;}\n",
        ".tg th{font-family:Arial, sans-serif;font-size:14px;font-weight:normal;padding:10px 5px;border-style:solid;border-width:1px;overflow:hidden;word-break:normal;border-color:black;}\n",
        ".tg .tg-lboi{border-color:inherit;text-align:center;vertical-align:middle}\n",
        ".tg .tg-fymr{font-weight:bold;border-color:inherit;text-align:center;vertical-align:top}\n",
        ".tg .tg-g7sd{font-weight:bold;border-color:inherit;text-align:center;vertical-align:middle}\n",
        ".tg .tg-0pky{border-color:inherit;text-align:center;vertical-align:top}\n",
        "</style>\n",
        "<table class=\"tg\">\n",
        "  <tr>\n",
        "    <th class=\"tg-fymr\">Velocidad</th>\n",
        "    <th class=\"tg-fymr\">Vector</th>\n",
        "    <th class=\"tg-fymr\">Pesos $w$</th>\n",
        "    <th class=\"tg-g7sd\">RepresentaciÃ³n</th>\n",
        "  </tr>\n",
        "  <tr>\n",
        "    <td class=\"tg-0pky\">$\\vec{v}_0$</td>\n",
        "    <td class=\"tg-0pky\">(0,0)</td>\n",
        "    <td class=\"tg-0pky\">4/9</td>\n",
        "    <td class=\"tg-lboi\" rowspan=\"9\"><img src=\"https://www.cb-geo.com/images/cb-geo/research/lbm/d2q9.png\" alt=\"D2Q9\" width=\"500\"/></td>\n",
        "\n",
        "  </tr>\n",
        "  <tr>\n",
        "    <td class=\"tg-0pky\">$\\vec{v}_1$</td>\n",
        "    <td class=\"tg-0pky\">(1,0)</td>\n",
        "    <td class=\"tg-0pky\">1/9</td>\n",
        "  </tr>\n",
        "  <tr>\n",
        "    <td class=\"tg-0pky\">$\\vec{v}_2$</td>\n",
        "    <td class=\"tg-0pky\">(0,1)</td>\n",
        "    <td class=\"tg-0pky\">1/9</td>\n",
        "  </tr>\n",
        "  <tr>\n",
        "    <td class=\"tg-0pky\">$\\vec{v}_3$</td>\n",
        "    <td class=\"tg-0pky\">(-1,0)</td>\n",
        "    <td class=\"tg-0pky\">1/9</td>\n",
        "  </tr>\n",
        "  <tr>\n",
        "    <td class=\"tg-0pky\">$\\vec{v}_4$</td>\n",
        "    <td class=\"tg-0pky\">(0,-1)</td>\n",
        "    <td class=\"tg-0pky\">1/9</td>\n",
        "  </tr>\n",
        "  <tr>\n",
        "    <td class=\"tg-0pky\">$\\vec{v}_5$</td>\n",
        "    <td class=\"tg-0pky\">(1,1)</td>\n",
        "    <td class=\"tg-0pky\">1/36</td>\n",
        "  </tr>\n",
        "  <tr>\n",
        "    <td class=\"tg-0pky\">$\\vec{v}_6$</td>\n",
        "    <td class=\"tg-0pky\">(-1,1)</td>\n",
        "    <td class=\"tg-0pky\">1/36</td>\n",
        "  </tr>\n",
        "  <tr>\n",
        "    <td class=\"tg-0pky\">$\\vec{v}_7$</td>\n",
        "    <td class=\"tg-0pky\">(-1,-1)</td>\n",
        "    <td class=\"tg-0pky\">1/36</td>\n",
        "  </tr>\n",
        "    <td class=\"tg-0pky\">$\\vec{v}_8$</td>\n",
        "    <td class=\"tg-0pky\">(1,-1)</td>\n",
        "    <td class=\"tg-0pky\">1/36</td>\n",
        "  </tr>\n",
        "</table>\n",
        "\n",
        "Entre otras, la siguiente propiedad se asegura con los pesos y velocidades seleccionadas:\n",
        "$$\\sum_i w_iv_i = 0$$\n",
        "\n",
        "La siguiente funciÃ³n inicializa algunas variables. En cada punto de la grilla se tienen los mismos 9 pesos $w_i$ y 9 vectores de velocidad $v_i$. Sin embargo la funciÃ³n de distribuciÃ³n es diferente en cada punto de la grilla. AdemÃ¡s se realizan algunas pruebas de validaciÃ³n."
      ]
    },
    {
      "cell_type": "code",
      "metadata": {
        "id": "tXpi_0eFOYhr",
        "colab_type": "code",
        "colab": {}
      },
      "source": [
        "def inicialice(Ly, Lx):\n",
        "  '''\n",
        "  Inicializa las variables del modelo\n",
        "  ### Input\n",
        "  Lx: Longitud horizontal\n",
        "  Ly: Longitud vertical\n",
        "  ### Output: (w, f, v)\n",
        "  w:  Pesos                       w.shape = (9,)\n",
        "  f:  FunciÃ³n de distribuciÃ³n     f.shape = (Ly,Lx,9)\n",
        "  v:  Vectores de velocidad D2Q9  v.shape = (9,2)\n",
        "  '''\n",
        "  \n",
        "  # Cada uno de los 9 pesos\n",
        "  w = np.array([4/9, 1/9, 1/9, 1/9, 1/9, 1/36, 1/36, 1/36, 1/36])\n",
        "  \n",
        "  # La funciÃ³n de distribuciÃ³n tiene 3 dimensiones,\n",
        "  # las dos primeras corresponden a cada punto de la grilla y\n",
        "  # la Ãºltima las 9 direcciones de cada punto\n",
        "  f = np.zeros([Ly, Lx, 9])\n",
        "  \n",
        "  # En total hay 9 velocidades y cada una tiene dos dimensiones (y,x)\n",
        "  # Ojo! La dimensiÃ³n y es la primer componente y la dimensiÃ³n x la segunda,\n",
        "  # este cambio es por la forma en la cual Python lee una matriz\n",
        "  v = np.array([[0, 0], [0, 1], [1, 0], [0, -1], [-1, 0], [1, 1], [1, -1], [-1,-1], [-1,1]])\n",
        "\n",
        "  return w, f, v\n",
        "\n",
        "# Pruebas: Se crean variables de testeo para \n",
        "# comprobar el correcto funcionamiento de la funcion\n",
        "Lx_test = 3\n",
        "Ly_test = 4\n",
        "f_test = np.array([\n",
        "    [[1, 2, 3, 4, 5, 6, 7, 8, 9], [1, 2, 3, 4, 5, 6, 7, 8, 9], [1, 2, 3, 4, 5, 6, 7, 8, 9]],\n",
        "    [[1, 2, 3, 4, 5, 6, 7, 8, 9], [1, 2, 3, 4, 5, 6, 7, 8, 9], [1, 2, 3, 4, 5, 6, 7, 8, 9]],\n",
        "    [[1, 2, 3, 4, 5, 6, 7, 8, 9], [1, 2, 3, 4, 5, 6, 7, 8, 9], [1, 2, 3, 4, 5, 6, 7, 8, 9]],\n",
        "    [[1, 2, 3, 4, 5, 6, 7, 8, 9], [1, 2, 3, 4, 5, 6, 7, 8, 9], [1, 2, 3, 4, 5, 6, 7, 8, 9]]\n",
        "])\n",
        "w, f, v = inicialice(Ly_test, Lx_test)\n",
        "\n",
        "# Prueba de dimensionalidad de la funciÃ³n de distribuciÃ³n\n",
        "assert(f_test.shape == f.shape)\n",
        "\n",
        "# Prueba de dimensionalidad de las velocidades\n",
        "assert(v.shape == (9, 2))\n",
        "\n",
        "# Prueba de dimensionalidad de los pesos\n",
        "assert(w.shape == (9,))"
      ],
      "execution_count": 0,
      "outputs": []
    },
    {
      "cell_type": "markdown",
      "metadata": {
        "id": "eA1musmEF0wi",
        "colab_type": "text"
      },
      "source": [
        "## 2. FunciÃ³n densidad\n",
        "\n",
        "La densidad $\\rho$ de partÃ­culas en cada punto de la grilla viene dado por la suma de la funciÃ³n de distribuciÃ³n en dicho punto: \n",
        "\n",
        "$$\\rho = \\sum_i f_i$$"
      ]
    },
    {
      "cell_type": "code",
      "metadata": {
        "id": "pmo7xvVZU_0f",
        "colab_type": "code",
        "colab": {}
      },
      "source": [
        "def densidad (f):\n",
        "  '''\n",
        "  Calcula la densidad en cada punto del espacio.\n",
        "  ### Input\n",
        "  f: FunciÃ³n de distribuciÃ³n\n",
        "  ### Output\n",
        "  rho: Densidad   rho.shape = (Ly, Lx)\n",
        "  '''\n",
        "  # Se suma en la 3era dimension (axis = 2)\n",
        "  rho = np.sum(f, axis = 2)\n",
        "  return rho\n",
        "\n",
        "# Prueba de la funciÃ³n\n",
        "rho_test = densidad(f_test)\n",
        "\n",
        "# Prueba de dimensionalidad de la densidad\n",
        "assert(rho_test.shape == (Ly_test, Lx_test))"
      ],
      "execution_count": 0,
      "outputs": []
    },
    {
      "cell_type": "markdown",
      "metadata": {
        "id": "hjHA-5cxMiKZ",
        "colab_type": "text"
      },
      "source": [
        "## 3. Velocidad centro de masa\n",
        "\n",
        "Cada partÃ­cula se mueve en cada direcciÃ³n, la velocidad del centro de masa $\\vec{U}$ representa la velocidad de cada punto de la grilla. Este viene dado por:\n",
        "$$\\vec{U}\\rho = \\sum_i f_i \\vec{v}_i = f \\cdot \\vec{v}$$"
      ]
    },
    {
      "cell_type": "code",
      "metadata": {
        "id": "4SFzLCc-Mkfz",
        "colab_type": "code",
        "colab": {}
      },
      "source": [
        "def velocidad_cm (f, v, rho):\n",
        "  '''\n",
        "  Calcula la velocidad centro de masa en cada punto del espacio.\n",
        "  ### Input\n",
        "  f: FunciÃ³n de distribuciÃ³n\n",
        "  v: DistribuciÃ³n de velocidades\n",
        "  ### Output:\n",
        "  U.shape = (Ly, Lx, 2)\n",
        "  '''\n",
        "  \n",
        "  # Se realiza producto punto entre f y v.\n",
        "  # la suma se realiza entre la 3era dimensiÃ³n de f y\n",
        "  # la 1era dimensiÃ³n de v. En estas dimensiones cada \n",
        "  # variable coincide con 9 elementos\n",
        "  U = np.tensordot(f, v, axes = ([2], [0]))\n",
        "\n",
        "  # Luego se divide entre la densidad. Como en cada punto de la grilla \n",
        "  # la densidad es escalar mientras la velocidad es un vector de dos dim,\n",
        "  # se hace broadcasting de la densidad, de esta forma cada componente\n",
        "  # del vector se divide en la misma densidad.\n",
        "  U = np.divide(U, rho[...,None])\n",
        "  return U\n",
        "\n",
        "# Prueba de dimensionalidad de la velocidad del centro de masa\n",
        "rho = densidad(f_test)\n",
        "U_test = velocidad_cm(f_test, v, rho)\n",
        "assert(U_test.shape == (Ly_test, Lx_test, 2))"
      ],
      "execution_count": 0,
      "outputs": []
    },
    {
      "cell_type": "markdown",
      "metadata": {
        "id": "vWB9GufpQ6A9",
        "colab_type": "text"
      },
      "source": [
        "## 4. Producto entre el velocidad del c. masa y la distribuciÃ³n de velocidad\n",
        "Se calcula el producto punto entre $U$ y $v_i$. Este valor indica la proyecciÃ³n de la velocidad del centro de masa en cada direcciÃ³n.\n",
        "$$\\vec{U}\\cdot\\vec{v}_i = U_x v_{ix} + U_y v_{iy} $$"
      ]
    },
    {
      "cell_type": "code",
      "metadata": {
        "id": "7ymRLtS8Q-7O",
        "colab_type": "code",
        "colab": {}
      },
      "source": [
        "def Udotv (U, v):\n",
        "  '''\n",
        "  Calcula la proyecciÃ³n de la velocidad del centro de masa \n",
        "  en cada punto de la grilla para cada direcciÃ³n i\n",
        "  ### Input\n",
        "  U: velocidad_cm                 U.shape = (Ly, Lx, 2)\n",
        "  v: DistribuciÃ³n de velocidades  v.shape = (9, 2)\n",
        "  ### Output\n",
        "  Udotv: ProyecciÃ³n velocidad cm  Udotv.shape = (Ly, Lx, 9)\n",
        "  '''\n",
        "\n",
        "  # Producto punto entre U y v. Ambas variables son vectores\n",
        "  # con componentes y, x. Se multiplican estas componentes y\n",
        "  # se suman. Para U estas componentes se encuentran en la \n",
        "  # 3era dimensiÃ³n, mientras para v en la 2da.\n",
        "  return np.tensordot(U, v, axes = ([2], [1]))\n",
        "\n",
        "# Prueba de dimensionalidad del producto entre velocidad \n",
        "# del centro de masa y la distribuciÃ³n de velocidad\n",
        "Udotv_test = Udotv(U_test, v)\n",
        "assert(Udotv_test.shape == (Ly_test, Lx_test, 9))"
      ],
      "execution_count": 0,
      "outputs": []
    },
    {
      "cell_type": "markdown",
      "metadata": {
        "id": "JKtG1O6iKQhT",
        "colab_type": "text"
      },
      "source": [
        "## 5. FunciÃ³n de equilibrio\n",
        "Cuando dos esferas duras chocan entre sÃ­, la direcciÃ³n y velocidad de salida de cada una es muy sensible a las condiciones iniciales. Sin embargo estas direcciones y velocidades se tienden a distribuir de una manera muy particular alrededor de una velocidad promedio despuÃ©s de un tiempo sufiente. Esta distribuciÃ³n partÃ­cular se conoce como *distribuciÃ³n de equilibrio $f^{eq}$*.\n",
        "\n",
        "$$f^{eq}_i = w_i*\\rho*\\left[1+3(\\vec{U}\\cdot\\vec{v_i})+\\dfrac{9}{2}(\\vec{U}\\cdot\\vec{v_i})^2-\\dfrac{3}{2}\\vec{U}\\cdot\\vec{U}\\right]$$\n"
      ]
    },
    {
      "cell_type": "code",
      "metadata": {
        "id": "Cp9uIthjKM_U",
        "colab_type": "code",
        "colab": {}
      },
      "source": [
        "def f_eq (w, rho, U, v):\n",
        "  '''\n",
        "  Calcula la funciÃ³n de equilibrio.\n",
        "  ### Input\n",
        "  w: Pesos                       w.shape = (9,)\n",
        "  rho: Densidad                  rho.shape = (Ly, Lx)\n",
        "  U: velocidad_cm                U.shape = (Ly, Lx, 2)\n",
        "  v: DistribuciÃ³n de velocidades v.shape = (9, 2)\n",
        "  ### Output: \n",
        "  f_eq: FunciÃ³n de equilibrio    f_eq.shape = (Ly, Lx, 9)\n",
        "  '''\n",
        "  # Se obtienen las dimensiones de la grilla\n",
        "  Ly, Lx = rho.shape\n",
        "\n",
        "  # Se inicializa la funciÃ³n de equilibrio\n",
        "  f_eq = np.zeros([Ly, Lx, 9])\n",
        "  \n",
        "  # Se calcula la proyecciÃ³n de la velocidad \n",
        "  # del centro de masa en cada direcciÃ³n\n",
        "  udotv  = Udotv(U, v)                # Udotv.shape = (Ly, Lx, 9)\n",
        "\n",
        "  # Se calcula la energÃ­a cinÃ©tica en \n",
        "  # cada punto de la grilla. Para esto \n",
        "  # se eleva cada componente al cuadrado (3era dimensiÃ³n)\n",
        "  # y se suma (Ux^2 + Uy^2)\n",
        "  U2     = np.sum(U**2, axis = 2)     # U2.shape = (Ly, Lx)\n",
        "  \n",
        "  for i in np.arange(9):\n",
        "      f_eq[...,i] = w[i] * rho * (1 + 3*udotv[...,i] + 9/2*(udotv[...,i])**2 - 3/2*U2)\n",
        "      \n",
        "  return f_eq\n",
        "\n",
        "# Prueba de dimensionalidad\n",
        "rho_test = densidad(f_test)\n",
        "feq_test = f_eq(w,rho_test, U_test, v)\n",
        "assert(feq_test.shape == f_test.shape)"
      ],
      "execution_count": 0,
      "outputs": []
    },
    {
      "cell_type": "markdown",
      "metadata": {
        "id": "eO50-z8OqyD7",
        "colab_type": "text"
      },
      "source": [
        "## 6. Condiciones iniciales\n",
        "Antes de realizar sucesivas iteraciones de la funciÃ³n de distribuciÃ³n, es necesario inicializarla de acuerdo a las condiciones iniciales y de frontera. La variable *celdas* contiene informaciÃ³n de los lugares donde la grilla tiene un *obstÃ¡culo* o es *libre*.\n",
        "\n",
        "CondiciÃ³n | celdas\n",
        "----------|------------\n",
        "ObstÃ¡culo | 0\n",
        "Libre     | 1\n",
        "\n",
        "TambiÃ©n se debe indicar la densidad inicial del fluido ($\\rho_0$) y la velocidad cm inicial ($U_0$)."
      ]
    },
    {
      "cell_type": "code",
      "metadata": {
        "id": "4GReGW01nbxW",
        "colab_type": "code",
        "colab": {}
      },
      "source": [
        "def condiciones_iniciales (w, rho0, U0, v, celdas):\n",
        "  '''\n",
        "  Consigue las condiciones inciales\n",
        "  ### Input\n",
        "  w: Pesos                       w.shape = (9,)\n",
        "  rho0: Densidad inicial         escalar\n",
        "  U0: velocidad_cm inicial       escalar\n",
        "  v: DistribuciÃ³n de velocidades v.shape = (9,2)\n",
        "  celdas: Obstaculo:0, libre:1   celdas.shape = (Ly,Lx)\n",
        "  ### Output: \n",
        "  U: Velocidad cm inicial        U.shape = (Ly, Lx, 2)\n",
        "  rho: Densidad incial           rho.shape = (Ly, Lx)\n",
        "  f: FunciÃ³n distr. inicial      f.shape = (Ly, Lx, 9)\n",
        "\n",
        "  f_eq:  f_eq.shape = (Ly, Lx, 9)\n",
        "  '''\n",
        "\n",
        "  # Dimensiones de la grilla\n",
        "  Ly, Lx = celdas.shape\n",
        "  \n",
        "  # Convierta la velocidad inicial a una arreglo numpy\n",
        "  U0 = np.array(U0)\n",
        "\n",
        "  # Inicialice con ceros la velocidad inicial\n",
        "  U = np.zeros([Ly, Lx, 2])\n",
        "  \n",
        "  # Cuando hay obstaculo (celdas=0), la velocidad es cero,\n",
        "  # sino se permanece igual\n",
        "  U = celdas[..., None]*U0[None,:]\n",
        "\n",
        "  # La densidad en toda la grilla es rho0\n",
        "  rho = rho0*np.ones([Ly,Lx])\n",
        "\n",
        "  # FunciÃ³n de equilibrio con las condiciones iniciales\n",
        "  f = f_eq(w, rho, U, v)\n",
        "\n",
        "  return U, rho, f\n",
        "\n",
        "# Pruebas\n"
      ],
      "execution_count": 0,
      "outputs": []
    },
    {
      "cell_type": "markdown",
      "metadata": {
        "id": "M4yFyMvtO4sP",
        "colab_type": "text"
      },
      "source": [
        "## 8. Lectura de imagen\n",
        "A partir de una imagen png blanco/negro se obtiene la variable celdas (negro = 0, blanco = 1).\n",
        "La imagen puede ser obtenida desde drive con el comando drive.mount(). Se realizan dos pruebas:\n",
        "1. Para comprobar la lectura correcta de la imagen\n",
        "2. Para comprobar las velocidades iniciales"
      ]
    },
    {
      "cell_type": "code",
      "metadata": {
        "id": "tMErsV5YO4DC",
        "colab_type": "code",
        "colab": {}
      },
      "source": [
        "from PIL import Image\n",
        "def lectura_imagen(imagen):\n",
        "  '''\n",
        "  Carga una imagen png en escala blanco/negro.\n",
        "  Obstaculo (negro):  Celda = 0\n",
        "  Libre (blanco):     Celda = 1\n",
        "  ### Input\n",
        "  imagen png (blanco/negro)\n",
        "  ### Output\n",
        "  matriz\n",
        "  '''\n",
        "  # Lee imagen\n",
        "  img = Image.open(imagen)\n",
        "\n",
        "  # Convierte a matriz numpy\n",
        "  matriz = np.array(img)\n",
        "  \n",
        "  return matriz\n",
        "\n",
        "\n",
        "#### Prueba grafica 1\n",
        "\n",
        "# Escriba la ruta de la imagen\n",
        "imagen_test = 'test.png'\n",
        "\n",
        "# Convierte la imagen a una matriz\n",
        "matriz_test = lectura_imagen(path + imagen_test)\n",
        "\n",
        "# Realiza pruebas en test.png\n",
        "# assert(matriz_test.shape == (9,13) and # Prueba de dimensionalidad\n",
        "#        matriz_test[0,0]  == 0      and # Prueba en esquina sup-izq\n",
        "#        matriz_test[0,11] == 0      and # Prueba en esquina sup-der\n",
        "#        matriz_test[8,10] == 0      and # Prueba en esquina inf-izq\n",
        "#        matriz_test[8,3]  == 0          # Prueba en esquina inf-der\n",
        "#       )\n",
        "plt.imshow(matriz_test)\n",
        "plt.show()"
      ],
      "execution_count": 0,
      "outputs": []
    },
    {
      "cell_type": "code",
      "metadata": {
        "id": "TFk8k1fIq5mv",
        "colab_type": "code",
        "colab": {}
      },
      "source": [
        "#### Prueba grafica 2\n",
        "# Carpeta de imÃ¡genes\n",
        "fluido = 'test.png'\n",
        "\n",
        "# Lectura de imagen\n",
        "celdas_test = lectura_imagen(path + fluido)\n",
        "\n",
        "# Variables de la grilla\n",
        "Ly_test, Lx_test = celdas_test.shape\n",
        "X = np.arange(Lx_test)\n",
        "Y = np.arange(Ly_test)\n",
        "\n",
        "# Inicializa variables\n",
        "w, f, v = inicialice(Ly_test, Lx_test)\n",
        "\n",
        "# Inicializa condiciones inciales y de frontera\n",
        "# densidad inicial = 1, velocidad inicial = (0,1)\n",
        "U_inicial_test, rho_inicial_test, f_inicial_test = \\\n",
        "condiciones_iniciales(w, 1, [0,1], v, celdas_test)\n",
        "\n",
        "# Componentes de las velocidades\n",
        "vely_test = U_inicial_test[...,0]\n",
        "velx_test = U_inicial_test[...,1]\n",
        "\n",
        "# Densidad\n",
        "rho_test = densidad(f_inicial_test)\n",
        "\n",
        "# Campo vectorial de velocidades\n",
        "plt.quiver(X, Y, velx_test, vely_test)\n",
        "\n",
        "# Mapa de densidad\n",
        "plt.imshow(rho_test)\n",
        "plt.colorbar()\n",
        "plt.show()"
      ],
      "execution_count": 0,
      "outputs": []
    },
    {
      "cell_type": "markdown",
      "metadata": {
        "id": "yWNK5sDuvjh2",
        "colab_type": "text"
      },
      "source": [
        "## 7. EvoluciÃ³n"
      ]
    },
    {
      "cell_type": "code",
      "metadata": {
        "id": "DbnS2HBkr7UA",
        "colab_type": "code",
        "colab": {}
      },
      "source": [
        "def evolucion (f, w, v, U, rho, tau, celdas):\n",
        "  '''\n",
        "  Actualiza la funcion de distribuciÃ³n\n",
        "  ### Input\n",
        "  f: Funcion de distribucion     f.shape = (Ly, Lx, 9)\n",
        "  w: Pesos                       w.shape = (9,)\n",
        "  v: DistribuciÃ³n de velocidades v.shape = (9, 2)\n",
        "  U: velocidad_cm                U.shape = (Ly, Lx, 2)\n",
        "  rho: Densidad                  rho.shape = (Ly, Lx)\n",
        "  tau: Parametro de relajacion   escalar\n",
        "  celdas: Obstaculo:0, libre:1   celdas.shape = (Ly,Lx)\n",
        "  ### Output\n",
        "  f_new: fun. distr. actualizada f_new.shape = (Ly, Lx, 9)\n",
        "  '''\n",
        "\n",
        "  # Dimensiones de la grilla\n",
        "  Ly, Lx = rho.shape\n",
        "  \n",
        "  # Inicializa f_new a ceros\n",
        "  f_new = np.zeros(f.shape)\n",
        "  \n",
        "  # Calcula funcion de equilibrio\n",
        "  feq = f_eq(w, rho, U, v)\n",
        "  \n",
        "  # Iteraciones\n",
        "  for y in np.arange(Ly):\n",
        "    for x in np.arange(Lx):\n",
        "      for i in np.arange(9):\n",
        "        pos = (y, x, i)               # Posicion actual\n",
        "        y_new = (y+v[i,0]+Ly)%Ly      # Coordenada y nueva, frontera periodica\n",
        "        x_new = (x+v[i,1]+Lx)%Lx      # Coordenada x nueva, frontera periodica\n",
        "        pos_new = (y_new, x_new, i)   # Posicion nueva\n",
        "        if celdas[y_new ,x_new] == 1: # Libre\n",
        "          f_new[pos_new] = f[pos] - 1.0/tau*(f[pos]-feq[pos])\n",
        "        else:                         # Obstaculo\n",
        "          f_new[pos_new] = f[pos_new] \n",
        "  \n",
        "  return f_new\n",
        "\n",
        "# Prueba de dimensionalidad con tau = 0.5\n",
        "f_new_test = evolucion (f_inicial_test, w, v, \\\n",
        "                    U_inicial_test, rho_inicial_test, 0.5, celdas_test)\n",
        "# assert(f_test.shape == f_inicial_test.shape)\n",
        "\n",
        "# Prueba grafica\n",
        "rho_new_test = densidad(f_new_test)\n",
        "U_new_test = velocidad_cm(f_new_test, v, rho_inicial_test)\n",
        "\n",
        "plt.quiver(X, Y, U_new_test[...,1], U_new_test[...,0])\n",
        "\n",
        "# Mapa de densidad\n",
        "plt.imshow(rho_new_test)\n",
        "plt.colorbar()\n",
        "plt.show()"
      ],
      "execution_count": 0,
      "outputs": []
    },
    {
      "cell_type": "markdown",
      "metadata": {
        "id": "I8W5Sw30HpIl",
        "colab_type": "text"
      },
      "source": [
        "## 9. SimulaciÃ³n fluido"
      ]
    },
    {
      "cell_type": "code",
      "metadata": {
        "id": "YXxLH3NJHO3K",
        "colab_type": "code",
        "colab": {}
      },
      "source": [
        "# ParÃ¡metro de relajaciÃ³n\n",
        "tau  = 0.51\n",
        "\n",
        "# Condiciones iniciales\n",
        "rho0 = 1             # Densidad = 1\n",
        "U0   = [0,0.05]      # Velocidad hacia la derecha 0.05\n",
        "fluido = 'vena.png'  # Archivo con obstaculos\n",
        "\n",
        "# Numero de iteraciones\n",
        "iteraciones = 1000\n",
        "\n",
        "# Grilla\n",
        "celdas = lectura_imagen(path + fluido)\n",
        "Ly, Lx = celdas.shape\n",
        "\n",
        "# Inicializacion\n",
        "w, f, v   = inicialice(Ly, Lx)\n",
        "U, rho, f = condiciones_iniciales(w, rho0, U0, v, celdas)\n",
        "\n",
        "# Almacenamiento de resultados, \n",
        "# se utiliza la primer dimension para cada iteracion\n",
        "rho_cache = np.zeros([iteraciones, Ly, Lx])\n",
        "U_cache = np.zeros([iteraciones, Ly, Lx, 2])\n",
        "\n",
        "# Iteraciones\n",
        "for i in np.arange(iteraciones):\n",
        "  # Actualizacion de la funcion de distribucion\n",
        "  f = evolucion(f, w, v, U, rho, tau, celdas)\n",
        "\n",
        "  # Actualizacion de la densidad y la velocidad\n",
        "  rho = densidad(f)\n",
        "  U   = velocidad_cm(f, v, rho)\n",
        "  \n",
        "  # Almacenamiento\n",
        "  rho_cache[i,...] = rho\n",
        "  U_cache[i,...] = U"
      ],
      "execution_count": 0,
      "outputs": []
    },
    {
      "cell_type": "markdown",
      "metadata": {
        "id": "NJhTVODFjfLQ",
        "colab_type": "text"
      },
      "source": [
        "## 10. AnimaciÃ³n"
      ]
    },
    {
      "cell_type": "code",
      "metadata": {
        "id": "NRVRP_d9ja-f",
        "colab_type": "code",
        "colab": {}
      },
      "source": [
        "import matplotlib.animation as animation\n",
        "from IPython.display import HTML\n",
        "\n",
        "# Funcion de actualizacion de la animacion\n",
        "def update_quiver(i, Q, U):\n",
        "  Q.set_UVC(U[i,...,1], U[i,...,0])\n",
        "  #ax.imshow(rho_cache[i,...])\n",
        "  return Q\n",
        "\n",
        "# Preparacion de la figura\n",
        "fig, ax = plt.subplots(1,1)\n",
        "\n",
        "# Figura inicial\n",
        "# Q = ax.quiver(np.arange(Lx), np.arange(Ly), U_cache[100,...,1], U_cache[100,...,0], color = 'black')\n",
        "# ax.imshow(rho_cache[100,...])\n",
        "# fig.colorbar()\n",
        "# fig.show()\n",
        "\n",
        "plt.quiver(np.arange(Lx), np.arange(Ly), U_cache[100,...,1], U_cache[100,...,0], color = 'white')\n",
        "plt.imshow(rho_cache[100,...])\n",
        "plt.colorbar()\n",
        "plt.show()\n",
        "\n",
        "# Limites de dibujo\n",
        "# ax.set_xlim(30, 70)\n",
        "# ax.set_ylim(10, 50)\n",
        "\n",
        "# Animacion\n",
        "# anim = animation.FuncAnimation(fig, update_quiver, fargs=(Q, U_cache),\n",
        "                              #  interval=20, blit=False, save_count=iteraciones)\n",
        "\n",
        "# Conversion a HTML para cuaderno jupyter\n",
        "# HTML(anim.to_html5_video())"
      ],
      "execution_count": 0,
      "outputs": []
    },
    {
      "cell_type": "markdown",
      "metadata": {
        "id": "7HcwVxwhY7FA",
        "colab_type": "text"
      },
      "source": [
        "## Diferencia de velocidad\n",
        "$$\\frac{\\partial u_x}{\\partial y} = \\frac{u_x(x,y+1)-u_x(x,y-1)}{2}$$"
      ]
    },
    {
      "cell_type": "code",
      "metadata": {
        "id": "TF9Z1TR4ZP8X",
        "colab_type": "code",
        "colab": {}
      },
      "source": [
        "def D_velocidad_cm (U):\n",
        "  '''\n",
        "  Calcula la velocidad centro de masa en cada punto del espacio.\n",
        "  ### Input\n",
        "  U: Velocidad centro de masa U.shape = (Ly, Lx, 2)\n",
        "  ### Output:\n",
        "  DU.shape = (Ly, Lx, 2)\n",
        "  '''\n",
        "  x = 1\n",
        "  y = 2\n",
        "  \n",
        "  Ly, Lx, i = U.shape\n",
        "  DUx = np.zeros([Ly,Lx,i])\n",
        "  \n",
        "  for y in range(Ly):\n",
        "    for x in range(Lx):\n",
        "      y_der = (y+1)%Ly\n",
        "      y_izq = (y-1)%Lx\n",
        "      DUx[y,x,1] = (U[y_der, x, 1] - U[y_izq,x,1])/2\n",
        "\n",
        "  return DUx\n",
        "\n",
        "# Prueba\n",
        "DUx = D_velocidad_cm(U_test)\n",
        "print(U_test)\n",
        "print (DUx)\n",
        "# Prueba de dimensionalidad de la velocidad del centro de masa\n"
      ],
      "execution_count": 0,
      "outputs": []
    },
    {
      "cell_type": "code",
      "metadata": {
        "id": "IlbKaoSSdZW-",
        "colab_type": "code",
        "colab": {}
      },
      "source": [
        "-1%4"
      ],
      "execution_count": 0,
      "outputs": []
    }
  ]
}
